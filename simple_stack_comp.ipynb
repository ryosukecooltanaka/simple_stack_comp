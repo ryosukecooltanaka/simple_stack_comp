{
 "cells": [
  {
   "cell_type": "markdown",
   "id": "a4b7a22c-49eb-4bee-9705-b3e37b11e1dc",
   "metadata": {},
   "source": [
    "# Simple Stack Comparison\n",
    "- Take a pair of Z-stacks from animals expressing functional indicators, with sustained sensory stimuli (i.e., \"steady state\" functional stacks)\n",
    "- Pass the paths to the two stacks (assume no alignment is needed)\n",
    "- Normalize each, to low and high percentile targets\n",
    "- Take the difference, such that the whole thing scales between -1 to 1\n",
    "- Visualize on napari (to guide experiments immediately following)\n",
    "- Save the difference stack as h5, or possible as tiff or movie"
   ]
  },
  {
   "cell_type": "code",
   "execution_count": 1,
   "id": "0c6b5802-d5fc-400f-8c64-8f5217491dd4",
   "metadata": {},
   "outputs": [],
   "source": [
    "import numpy as np\n",
    "from matplotlib import pyplot as plt\n",
    "import napari\n",
    "import colorcet as cc\n",
    "from scipy.signal import convolve, correlate\n",
    "import flammkuchen as fl\n",
    "from pathlib import Path\n",
    "from tqdm import tqdm"
   ]
  },
  {
   "cell_type": "code",
   "execution_count": 21,
   "id": "62f69516-7ee0-4912-920b-0d1ad08fbbc9",
   "metadata": {},
   "outputs": [],
   "source": [
    "## Convert colormap to use as napari-digestable dict\n",
    "\n",
    "cet_cmap = cc.cm.CET_D7\n",
    "colors = np.vstack([cet_cmap(i) for i in range(256)])\n",
    "\n",
    "new_colormap = {\n",
    "    'colors': colors,\n",
    "    'name': cet_cmap.name,\n",
    "    'interpolation': 'linear'\n",
    "}"
   ]
  },
  {
   "cell_type": "markdown",
   "id": "4417b7aa-e9a0-4a31-a0a3-94d774e7fabd",
   "metadata": {},
   "source": [
    "## Sham data"
   ]
  },
  {
   "cell_type": "code",
   "execution_count": 3,
   "id": "e548edef-0b22-4a67-a7f7-07383a0896b2",
   "metadata": {},
   "outputs": [],
   "source": [
    "## Generate sham data (for now)\n",
    "\n",
    "xx, yy, zz = np.meshgrid(np.linspace(-1,1,400), np.linspace(-1,1,200), np.linspace(-1,1,400)) \n",
    "\n",
    "stack0 = (np.sin(xx*10 + zz*np.sin(yy*10))) * (np.sqrt(xx**2 + yy**2 + zz**2) < 0.8) + np.random.rand(*xx.shape)*5\n",
    "stack1 = (np.cos(xx*23 + yy*np.cos(zz*13))) * (np.sqrt(xx**2 + yy**2 + zz**2) < 0.8) + np.random.rand(*xx.shape)*5\n",
    "\n",
    "del xx, yy, zz"
   ]
  },
  {
   "cell_type": "code",
   "execution_count": 4,
   "id": "5c81aba9-90ad-48f1-b17c-4826fef912ef",
   "metadata": {},
   "outputs": [],
   "source": [
    "# normalize, take difference\n",
    "nstack0 = (stack0 - np.percentile(stack0, 1)) / (np.percentile(stack0, 99) - np.percentile(stack0, 1))\n",
    "nstack1 = (stack1 - np.percentile(stack1, 1)) / (np.percentile(stack1, 99) - np.percentile(stack1, 1))\n",
    "dstack = nstack0 - nstack1"
   ]
  },
  {
   "cell_type": "code",
   "execution_count": 5,
   "id": "09b9ec59-8eaf-495f-a8e5-56721497d9bf",
   "metadata": {},
   "outputs": [],
   "source": [
    "del stack0, stack1, nstack0, nstack1"
   ]
  },
  {
   "cell_type": "markdown",
   "id": "c28ed55e-909a-410c-8d61-5afefcaaaaa8",
   "metadata": {},
   "source": [
    "## Real Data"
   ]
  },
  {
   "cell_type": "code",
   "execution_count": 41,
   "id": "cb2b609b-ccb5-4af0-8686-2b5fda413d60",
   "metadata": {},
   "outputs": [],
   "source": [
    "# Define Path\n",
    "base_path = Path(r'Z:\\Ryosuke')\n",
    "protocol = 'E0091_v04b_SSZ'\n",
    "fish = '20250507_f4'\n",
    "path = base_path / protocol / fish "
   ]
  },
  {
   "cell_type": "code",
   "execution_count": 42,
   "id": "abba96f1-dc0a-48ed-9a0a-12750d65878e",
   "metadata": {},
   "outputs": [
    {
     "name": "stdout",
     "output_type": "stream",
     "text": [
      "0 zstack_191047.h5\n",
      "1 zstack_191338.h5\n"
     ]
    }
   ],
   "source": [
    "# List Z stack recs\n",
    "h5_list = list((path / 'zstack').glob('*.h5'))\n",
    "\n",
    "for i, zs in enumerate(h5_list):\n",
    "    print(i, zs.name)"
   ]
  },
  {
   "cell_type": "code",
   "execution_count": 43,
   "id": "93f824c4-72a2-4221-812b-03053988b8ff",
   "metadata": {},
   "outputs": [],
   "source": [
    "ids = (0,1)"
   ]
  },
  {
   "cell_type": "code",
   "execution_count": 44,
   "id": "54742327-d9a1-4c5b-a5a2-1b17bb982e75",
   "metadata": {},
   "outputs": [],
   "source": [
    "# load, normalize and store stocks\n",
    "stacks = []\n",
    "for id in ids:\n",
    "    temp = fl.load(h5_list[id])['stack_4D'][0, :, :, :]\n",
    "    temp = (temp - np.percentile(temp, 1)) / (np.percentile(temp, 99) - np.percentile(temp, 1))\n",
    "    stacks.append(temp)"
   ]
  },
  {
   "cell_type": "code",
   "execution_count": 45,
   "id": "4daee4ed-d535-4e3b-a7cf-4abfa6cd8749",
   "metadata": {},
   "outputs": [
    {
     "name": "stdout",
     "output_type": "stream",
     "text": [
      "0 0 0\n",
      "1 1 0\n",
      "2 0 0\n",
      "3 -2 0\n",
      "4 -2 -1\n",
      "5 0 0\n",
      "6 0 0\n",
      "7 1 1\n",
      "8 2 1\n",
      "9 -1 0\n",
      "10 0 -1\n",
      "11 0 -1\n",
      "12 0 0\n",
      "13 0 0\n",
      "14 0 0\n",
      "15 0 0\n",
      "16 0 -1\n",
      "17 0 -1\n",
      "18 0 0\n",
      "19 0 0\n",
      "20 0 0\n",
      "21 0 0\n",
      "22 0 0\n",
      "23 0 0\n",
      "24 0 -1\n",
      "25 0 -1\n",
      "26 0 -1\n",
      "27 0 -1\n",
      "28 0 -1\n",
      "29 0 -1\n",
      "30 0 -1\n",
      "31 0 -1\n",
      "32 0 -1\n",
      "33 0 -1\n",
      "34 0 0\n",
      "35 0 -1\n",
      "36 0 0\n",
      "37 0 -1\n",
      "38 0 0\n",
      "39 0 -1\n",
      "40 0 0\n",
      "41 0 0\n",
      "42 0 0\n",
      "43 0 0\n",
      "44 0 0\n",
      "45 0 -1\n",
      "46 0 0\n",
      "47 0 0\n",
      "48 0 0\n",
      "49 0 -1\n",
      "50 0 -1\n",
      "51 0 0\n",
      "52 0 0\n",
      "53 0 0\n",
      "54 0 0\n",
      "55 0 0\n",
      "56 0 0\n",
      "57 0 1\n",
      "58 0 0\n",
      "59 0 0\n",
      "60 0 0\n",
      "61 0 0\n",
      "62 0 0\n",
      "63 0 0\n",
      "64 0 0\n",
      "65 0 1\n",
      "66 2 0\n",
      "67 2 0\n",
      "68 0 0\n",
      "69 0 -1\n",
      "70 0 0\n",
      "71 2 0\n",
      "72 0 0\n",
      "73 0 0\n",
      "74 1 -1\n",
      "75 2 2\n",
      "76 0 0\n",
      "77 0 0\n",
      "78 2 0\n",
      "79 0 -1\n",
      "80 0 -1\n",
      "81 0 0\n",
      "82 0 0\n",
      "83 2 -1\n",
      "84 0 -1\n",
      "85 0 0\n",
      "86 0 -1\n",
      "87 1 -1\n",
      "88 1 0\n",
      "89 0 0\n",
      "90 0 0\n",
      "91 2 0\n",
      "92 0 0\n",
      "93 0 -1\n",
      "94 0 0\n",
      "95 0 0\n",
      "96 0 0\n",
      "97 0 0\n",
      "98 2 0\n",
      "99 0 0\n",
      "100 0 0\n",
      "101 0 0\n",
      "102 1 0\n",
      "103 -1 1\n",
      "104 2 0\n",
      "105 2 0\n",
      "106 2 0\n",
      "107 0 0\n",
      "108 1 0\n",
      "109 0 0\n"
     ]
    }
   ],
   "source": [
    "# frame-wise alignment\n",
    "n_frame = stacks[0].shape[0]\n",
    "aligned_dstack = []\n",
    "for z in range(n_frame):\n",
    "    peak_px_ind = np.argmax(correlate(stacks[0][z, :, :], stacks[1][z, :, :], mode='same', method='fft'))\n",
    "    y_shift = peak_px_ind//stacks[0].shape[2] - stacks[0].shape[1]//2\n",
    "    x_shift = peak_px_ind%stacks[0].shape[2]- stacks[0].shape[2]//2\n",
    "    print(z, y_shift, x_shift)\n",
    "    aligned_dstack.append(np.roll(stacks[0][z, :, :], (-y_shift, -x_shift), axis=(0,1)) - stacks[1][z, :, :])\n",
    "aligned_dstack = np.asarray(aligned_dstack)"
   ]
  },
  {
   "cell_type": "code",
   "execution_count": 73,
   "id": "fcd3e683-28b0-4d4e-9636-5b63f461dfd0",
   "metadata": {},
   "outputs": [],
   "source": [
    "aligned_dstack = stacks[0] - stacks[1]"
   ]
  },
  {
   "cell_type": "markdown",
   "id": "26118025-1346-4a0d-9482-0f3feeab887a",
   "metadata": {},
   "source": [
    "## Processing"
   ]
  },
  {
   "cell_type": "code",
   "execution_count": 46,
   "id": "ac2e5ec4-68e8-4c36-84d0-d4e2227b7b22",
   "metadata": {},
   "outputs": [],
   "source": [
    "# box filtering\n",
    "box_size = 3\n",
    "s_dstack = np.asarray([convolve(frame, np.ones((box_size, box_size))/box_size**2, 'same') for frame in aligned_dstack])"
   ]
  },
  {
   "cell_type": "code",
   "execution_count": 47,
   "id": "874938f0-abd4-4d2f-9f4c-a5cb124ae597",
   "metadata": {},
   "outputs": [
    {
     "name": "stderr",
     "output_type": "stream",
     "text": [
      "WARNING: QOpenGLShader::compile(Fragment): ERROR: 4:1: 'textureSampler' : syntax error syntax error\n",
      "\n",
      "\n",
      "WARNING: *** Problematic Fragment shader source code ***\n",
      "#version 110\n",
      "#ifdef GL_KHR_blend_equation_advanced\n",
      "#extension GL_ARB_fragment_coord_conventions : enable\n",
      "#extension GL_KHR_blend_equation_advanced : enable\n",
      "#endif\n",
      "#define lowp\n",
      "#define mediump\n",
      "#define highp\n",
      "#line 1\n",
      "varying highp vec2 uv;uniform sampler2DRect textureSampler;uniform bool swizzle;uniform highp float opacity;void main() {   highp vec4 tmpFragColor = texture2DRect(textureSampler,uv);   tmpFragColor.a *= opacity;   gl_FragColor = swizzle ? tmpFragColor.bgra : tmpFragColor;}\n",
      "***\n"
     ]
    }
   ],
   "source": [
    "max_cont = 1.5\n",
    "viewer0 = napari.view_image(\n",
    "                    s_dstack, \n",
    "                    colormap=new_colormap,\n",
    "                    contrast_limits=(-max_cont, max_cont)\n",
    "          )"
   ]
  },
  {
   "cell_type": "code",
   "execution_count": 48,
   "id": "eac630be-66bc-4d56-af15-562e88a6b5ad",
   "metadata": {},
   "outputs": [],
   "source": [
    "diff_file_name = 'diff_' + h5_list[ids[0]].name[7:-3] + '_' + h5_list[ids[1]].name[7:-3] + '.h5'"
   ]
  },
  {
   "cell_type": "code",
   "execution_count": 49,
   "id": "cd198d67-11f8-4197-b347-ea2c5465e7e9",
   "metadata": {},
   "outputs": [],
   "source": [
    "# save h5\n",
    "fl.save(path / diff_file_name, {'d_stack': s_dstack})"
   ]
  },
  {
   "cell_type": "code",
   "execution_count": null,
   "id": "7c55092b-ff70-49c3-86a7-6df2e897d782",
   "metadata": {},
   "outputs": [],
   "source": []
  }
 ],
 "metadata": {
  "kernelspec": {
   "display_name": "stytra_env",
   "language": "python",
   "name": "stytra_env"
  },
  "language_info": {
   "codemirror_mode": {
    "name": "ipython",
    "version": 3
   },
   "file_extension": ".py",
   "mimetype": "text/x-python",
   "name": "python",
   "nbconvert_exporter": "python",
   "pygments_lexer": "ipython3",
   "version": "3.11.6"
  }
 },
 "nbformat": 4,
 "nbformat_minor": 5
}
