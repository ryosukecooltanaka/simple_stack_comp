{
 "cells": [
  {
   "cell_type": "markdown",
   "id": "a4b7a22c-49eb-4bee-9705-b3e37b11e1dc",
   "metadata": {},
   "source": [
    "# Simple Stack Comparison\n",
    "- Take a pair of Z-stacks from animals expressing functional indicators, with sustained sensory stimuli (i.e., \"steady state\" functional stacks)\n",
    "- Pass the paths to the two stacks (assume no alignment is needed)\n",
    "- Normalize each, to low and high percentile targets\n",
    "- Take the difference, such that the whole thing scales between -1 to 1\n",
    "- Visualize on napari (to guide experiments immediately following)\n",
    "- Save the difference stack as h5, or possible as tiff or movie"
   ]
  },
  {
   "cell_type": "code",
   "execution_count": 75,
   "id": "0c6b5802-d5fc-400f-8c64-8f5217491dd4",
   "metadata": {},
   "outputs": [],
   "source": [
    "import numpy as np\n",
    "from matplotlib import pyplot as plt\n",
    "import napari\n",
    "import colorcet as cc\n",
    "from scipy.signal import convolve\n",
    "import flammkuchen as fl"
   ]
  },
  {
   "cell_type": "code",
   "execution_count": 89,
   "id": "62f69516-7ee0-4912-920b-0d1ad08fbbc9",
   "metadata": {},
   "outputs": [],
   "source": [
    "## Convert colormap to use as napari-digestable dict\n",
    "\n",
    "cet_cmap = cc.cm.CET_C1\n",
    "colors = np.vstack([cet_cmap(i) for i in range(256)])\n",
    "\n",
    "new_colormap = {\n",
    "    'colors': colors,\n",
    "    'name': cet_cmap.name,\n",
    "    'interpolation': 'linear'\n",
    "}"
   ]
  },
  {
   "cell_type": "code",
   "execution_count": 63,
   "id": "e548edef-0b22-4a67-a7f7-07383a0896b2",
   "metadata": {},
   "outputs": [],
   "source": [
    "## Generate sham data (for now)\n",
    "\n",
    "xx, yy, zz = np.meshgrid(np.linspace(-1,1,400), np.linspace(-1,1,200), np.linspace(-1,1,400)) \n",
    "\n",
    "stack0 = (np.sin(xx*10 + zz*np.sin(yy*10))) * (np.sqrt(xx**2 + yy**2 + zz**2) < 0.8) + np.random.rand(*xx.shape)*5\n",
    "stack1 = (np.cos(xx*23 + yy*np.cos(zz*13))) * (np.sqrt(xx**2 + yy**2 + zz**2) < 0.8) + np.random.rand(*xx.shape)*5\n",
    "\n",
    "del xx, yy, zz"
   ]
  },
  {
   "cell_type": "code",
   "execution_count": 64,
   "id": "5c81aba9-90ad-48f1-b17c-4826fef912ef",
   "metadata": {},
   "outputs": [],
   "source": [
    "# normalize, take difference\n",
    "nstack0 = (stack0 - np.percentile(stack0, 1)) / (np.percentile(stack0, 99) - np.percentile(stack0, 1))\n",
    "nstack1 = (stack1 - np.percentile(stack1, 1)) / (np.percentile(stack1, 99) - np.percentile(stack1, 1))\n",
    "dstack = nstack0 - nstack1"
   ]
  },
  {
   "cell_type": "code",
   "execution_count": 65,
   "id": "09b9ec59-8eaf-495f-a8e5-56721497d9bf",
   "metadata": {},
   "outputs": [],
   "source": [
    "del stack0, stack1, nstack0, nstack1"
   ]
  },
  {
   "cell_type": "code",
   "execution_count": 90,
   "id": "ac2e5ec4-68e8-4c36-84d0-d4e2227b7b22",
   "metadata": {},
   "outputs": [],
   "source": [
    "# box filtering\n",
    "box_size = 5\n",
    "s_dstack = np.asarray([convolve(frame, np.ones((box_size, box_size))/box_size**2, 'same') for frame in dstack])"
   ]
  },
  {
   "cell_type": "code",
   "execution_count": 91,
   "id": "874938f0-abd4-4d2f-9f4c-a5cb124ae597",
   "metadata": {},
   "outputs": [],
   "source": [
    "max_cont = 0.5\n",
    "viewer0 = napari.view_image(\n",
    "                    s_dstack, \n",
    "                    colormap=new_colormap,\n",
    "                    contrast_limits=(-max_cont, max_cont)\n",
    "          )"
   ]
  },
  {
   "cell_type": "code",
   "execution_count": 92,
   "id": "cd198d67-11f8-4197-b347-ea2c5465e7e9",
   "metadata": {},
   "outputs": [],
   "source": [
    "# save h5\n",
    "save_path = 'test_diff_stack'\n",
    "fl.save(save_path+'.h5', {'stack': s_dstack})"
   ]
  },
  {
   "cell_type": "code",
   "execution_count": 79,
   "id": "b897988a-11a1-405d-9146-676715ad37ff",
   "metadata": {},
   "outputs": [],
   "source": [
    "# load test\n",
    "s_dstack = fl.load(save_path+'.h5', '/stack')"
   ]
  },
  {
   "cell_type": "code",
   "execution_count": 84,
   "id": "183052e1-8006-4043-b260-8db138eb9c2a",
   "metadata": {},
   "outputs": [],
   "source": [
    "temp = cc.cm.CET_D1"
   ]
  },
  {
   "cell_type": "code",
   "execution_count": 86,
   "id": "207527d5-a18e-45fc-9325-860fecb4b3d4",
   "metadata": {},
   "outputs": [
    {
     "data": {
      "text/plain": [
       "'diverging_bwr_40_95_c42'"
      ]
     },
     "execution_count": 86,
     "metadata": {},
     "output_type": "execute_result"
    }
   ],
   "source": [
    "temp.name"
   ]
  },
  {
   "cell_type": "code",
   "execution_count": null,
   "id": "983bb30a-f4a8-4b46-91a6-3769a19199ef",
   "metadata": {},
   "outputs": [],
   "source": []
  }
 ],
 "metadata": {
  "kernelspec": {
   "display_name": "stytra",
   "language": "python",
   "name": "stytra"
  },
  "language_info": {
   "codemirror_mode": {
    "name": "ipython",
    "version": 3
   },
   "file_extension": ".py",
   "mimetype": "text/x-python",
   "name": "python",
   "nbconvert_exporter": "python",
   "pygments_lexer": "ipython3",
   "version": "3.10.6"
  }
 },
 "nbformat": 4,
 "nbformat_minor": 5
}
